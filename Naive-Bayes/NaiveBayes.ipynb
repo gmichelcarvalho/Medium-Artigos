{
 "cells": [
  {
   "cell_type": "markdown",
   "metadata": {},
   "source": [
    "## Guilherme Michel Lima de Carvalho\n",
    "### Implementação do classificador Naive-Bayes"
   ]
  },
  {
   "cell_type": "code",
   "execution_count": 37,
   "metadata": {},
   "outputs": [],
   "source": [
    "import numpy as np\n",
    "### Criando uma função para extrair os indices das observações de cada classe no conjunto de dados. \n",
    "def indices_data(y): ## Recebe os targets \n",
    "    n_classes = len(np.unique(y))\n",
    "    classes_indices = []\n",
    "    for i in range(n_classes): ## As classes devem ser ordenadas a partir de 0.\n",
    "        classes_indices.append(np.where(y==i)[0].tolist()) ## Faz um append dos indices da classe i\n",
    "    return classes_indices"
   ]
  },
  {
   "cell_type": "code",
   "execution_count": 38,
   "metadata": {},
   "outputs": [],
   "source": [
    "def prob_classes(y,classes_indices):\n",
    "    probs_class = []\n",
    "    for i in range(len(classes_indices)):\n",
    "        probs_class.append(len(classes_indices[i])/len(y))\n",
    "    return probs_class"
   ]
  },
  {
   "cell_type": "code",
   "execution_count": 39,
   "metadata": {},
   "outputs": [],
   "source": [
    "### Estimativa da média e variância para cada variável, condicionalmente a cada classe.\n",
    "def estimativas(X,classes_indices):\n",
    "    n_classes = len(classes_indices) ## Número de classes\n",
    "    n_variaveis = X.shape[1]  ## quantidade de variáveis do conjunto\n",
    "    estimativas_medias = np.zeros((n_classes,n_variaveis),dtype=np.float64) ## Para salvar as estimativas de médias p/ cada variável condicional a cada classe\n",
    "    estimativas_var = np.zeros((n_classes,n_variaveis),dtype=np.float64) ## Para salvar as estimativas de variância p/ cada variável condicional a cada classe\n",
    "    for i in range(n_classes):\n",
    "        estimativas_medias[i,:] = X[classes_indices[i]].mean(axis=0) ## Calcula a média de cada variável condicional a classe i \n",
    "        estimativas_var[i,:] = X[classes_indices[i]].var(axis=0) ## Calcula a var de cada variável condicional a classe i \n",
    "    return estimativas_medias,estimativas_var"
   ]
  },
  {
   "cell_type": "code",
   "execution_count": 40,
   "metadata": {},
   "outputs": [],
   "source": [
    "def gaussiana(media,var,x):\n",
    "    return (1/np.sqrt(2*(np.pi)*var))*np.exp(-((x-media)**2)/(2*var))"
   ]
  },
  {
   "cell_type": "code",
   "execution_count": 41,
   "metadata": {},
   "outputs": [],
   "source": [
    "def ajusta_naivebayes(X_treino,y_treino):\n",
    "    n_classes = len(np.unique(y_treino)) ## Número de classes \n",
    "    classes_indices = indices_data(y_treino) ## Indices nos dados de cada classe\n",
    "    probs_class = prob_classes(y_treino,classes_indices) ## Probs marginais estimativas\n",
    "    media, var = estimativas(X_treino,classes_indices) ## Media e variancia estimadas no conjunto de treino\n",
    "    return media,var,probs_class"
   ]
  },
  {
   "cell_type": "code",
   "execution_count": 42,
   "metadata": {},
   "outputs": [],
   "source": [
    "def prediz_naivebayes(X_teste,media,var,probs_class):\n",
    "    #### Usando as estimativas do conjunto treino para predizer a classe das observações do teste\n",
    "    n_classes = media.shape[0]\n",
    "    n_observacoes = len(X_teste) ## Número de observações no teste\n",
    "    n_variaveis = X_teste.shape[1] ## Quantidade de covariáveis\n",
    "    probabilidade_predita = np.zeros((n_observacoes,n_classes),dtype=np.float64) ### Probabilidade predita da observação ser de cada uma das classes\n",
    "\n",
    "    for i in range(n_observacoes):\n",
    "        for j in range(n_classes):\n",
    "            probabilidade_predita[i][j] = np.sum(np.log(gaussiana(media[j],var[j],X_teste[i]))) + np.log(probs_class[j]) \n",
    "    \n",
    "    return np.argmax(probabilidade_predita,axis=1)"
   ]
  },
  {
   "cell_type": "code",
   "execution_count": 43,
   "metadata": {},
   "outputs": [
    {
     "name": "stdout",
     "output_type": "stream",
     "text": [
      "A acurácia do Naive-Bayes no conjunto de teste foi de 0.951048951048951\n"
     ]
    }
   ],
   "source": [
    "from sklearn.model_selection import train_test_split\n",
    "from sklearn.datasets import load_breast_cancer\n",
    "\n",
    "cancer  = load_breast_cancer() \n",
    "X = cancer.data\n",
    "y = cancer.target\n",
    "\n",
    "X_treino, X_teste, y_treino, y_teste = train_test_split(X, y, test_size=0.25,random_state=42)\n",
    "\n",
    "media,var,prob_classes = ajusta_naivebayes(X_treino,y_treino)\n",
    "y_pred = prediz_naivebayes(X_teste,media,var,prob_classes)\n",
    "\n",
    "print('A acurácia do Naive-Bayes no conjunto de teste foi de ' + str(np.mean(y_pred == y_teste)))"
   ]
  }
 ],
 "metadata": {
  "kernelspec": {
   "display_name": "Python 3",
   "language": "python",
   "name": "python3"
  },
  "language_info": {
   "codemirror_mode": {
    "name": "ipython",
    "version": 3
   },
   "file_extension": ".py",
   "mimetype": "text/x-python",
   "name": "python",
   "nbconvert_exporter": "python",
   "pygments_lexer": "ipython3",
   "version": "3.7.3"
  }
 },
 "nbformat": 4,
 "nbformat_minor": 2
}
